{
  "nbformat": 4,
  "nbformat_minor": 0,
  "metadata": {
    "colab": {
      "name": "LongestPassword_Codility.ipynb",
      "provenance": [],
      "collapsed_sections": []
    },
    "kernelspec": {
      "name": "python3",
      "display_name": "Python 3"
    },
    "language_info": {
      "name": "python"
    }
  },
  "cells": [
    {
      "cell_type": "markdown",
      "source": [
        "Task description\n",
        "You would like to set a password for a bank account. However, there are three restrictions on the format of the password:\n",
        "\n",
        "it has to contain only alphanumerical characters (a−z, A−Z, 0−9);\n",
        "there should be an even number of letters;\n",
        "there should be an odd number of digits.\n",
        "You are given a string S consisting of N characters. String S can be divided into words by splitting it at, and removing, the spaces. The goal is to choose the longest word that is a valid password. You can assume that if there are K spaces in string S then there are exactly K + 1 words.\n",
        "\n",
        "For example, given \"test 5 a0A pass007 ?xy1\", there are five words and three of them are valid passwords: \"5\", \"a0A\" and \"pass007\". Thus the longest password is \"pass007\" and its length is 7. Note that neither \"test\" nor \"?xy1\" is a valid password, because \"?\" is not an alphanumerical character and \"test\" contains an even number of digits (zero).\n",
        "\n",
        "Write a function:\n",
        "\n",
        "def solution(S)\n",
        "\n",
        "that, given a non-empty string S consisting of N characters, returns the length of the longest word from the string that is a valid password. If there is no such word, your function should return −1.\n",
        "\n",
        "For example, given S = \"test 5 a0A pass007 ?xy1\", your function should return 7, as explained above.\n",
        "\n",
        "Assume that:\n",
        "\n",
        "N is an integer within the range [1..200];\n",
        "string S consists only of printable ASCII characters and spaces.\n",
        "In your solution, focus on correctness. The performance of your solution will not be the focus of the assessment."
      ],
      "metadata": {
        "id": "TntGIUYZGrgP"
      }
    },
    {
      "cell_type": "code",
      "execution_count": null,
      "metadata": {
        "id": "x10fDpfBub4S"
      },
      "outputs": [],
      "source": [
        "from re import search\n",
        "def solution(S):\n",
        "    # write your code in Python 3.6\n",
        "    N=-1\n",
        "    words=S.split(' ')#splitting the string to words\n",
        "    print('List of words in string: ')\n",
        "    print(words) #print list of words\n",
        "    valid=[] \n",
        "    import re\n",
        "    for word in words:\n",
        "      #print(word)\n",
        "      if (re.compile('[^a-zA-Z0-9]').search(word)):#see if there are any non-alphanumeric character in the word\n",
        "        continue\n",
        "      else:\n",
        "        intCount=len(re.findall('\\d', word))#count integers in the word\n",
        "        #print(intCount)\n",
        "        letterCount=len(re.findall('\\D', word))#count letters in the word\n",
        "        #Be sure that integers count is not even (he assumes zero is an even number in this example) and also letter count is not odd \n",
        "        if(intCount!=0 and intCount%2!=0 and letterCount%2==0):\n",
        "          valid.append(word)\n",
        "\n",
        "    print('valid list is: ')\n",
        "    print(valid)#print valid list\n",
        "    for word in valid:#longest password loop\n",
        "          if len(word)>N:\n",
        "            N=len(word)\n",
        "            \n",
        "    return N"
      ]
    },
    {
      "cell_type": "code",
      "source": [
        "print(\"longest one size: \" + str(solution('test 5 a0A pass007 ?xy1 y?h dfghjk rychbsdfgh_jkjhgfds4')))\n",
        "print(\"longest one size: \" + str(solution('test ?xy1')))\n",
        "print(\"longest one size: \" + str(solution('t f h')))\n"
      ],
      "metadata": {
        "colab": {
          "base_uri": "https://localhost:8080/"
        },
        "id": "q4my9LlJufpB",
        "outputId": "0e93699b-86d2-43a4-a760-b581154e4f0d"
      },
      "execution_count": null,
      "outputs": [
        {
          "output_type": "stream",
          "name": "stdout",
          "text": [
            "List of words in string: \n",
            "['test', '5', 'a0A', 'pass007', '?xy1', 'y?h', 'dfghjk', 'rychbsdfgh_jkjhgfds4']\n",
            "valid list is: \n",
            "['5', 'a0A', 'pass007']\n",
            "longest one size: 7\n",
            "List of words in string: \n",
            "['test', '?xy1']\n",
            "valid list is: \n",
            "[]\n",
            "longest one size: -1\n",
            "List of words in string: \n",
            "['t', 'f', 'h']\n",
            "valid list is: \n",
            "[]\n",
            "longest one size: -1\n"
          ]
        }
      ]
    }
  ]
}